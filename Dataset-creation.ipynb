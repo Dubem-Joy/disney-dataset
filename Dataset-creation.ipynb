{
 "cells": [
  {
   "cell_type": "markdown",
   "id": "f3610b1f",
   "metadata": {},
   "source": [
    "### Disney Dataset Creation\n",
    "Scrape a list of disney wiki pages to create dataset with `python BeautifulSoup`. "
   ]
  },
  {
   "cell_type": "code",
   "execution_count": null,
   "id": "5fd59c89",
   "metadata": {},
   "outputs": [],
   "source": []
  }
 ],
 "metadata": {
  "kernelspec": {
   "display_name": "Python 3 (ipykernel)",
   "language": "python",
   "name": "python3"
  },
  "language_info": {
   "codemirror_mode": {
    "name": "ipython",
    "version": 3
   },
   "file_extension": ".py",
   "mimetype": "text/x-python",
   "name": "python",
   "nbconvert_exporter": "python",
   "pygments_lexer": "ipython3",
   "version": "3.9.13"
  }
 },
 "nbformat": 4,
 "nbformat_minor": 5
}
