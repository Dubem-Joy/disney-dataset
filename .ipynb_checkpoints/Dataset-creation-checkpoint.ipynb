{
 "cells": [
  {
   "cell_type": "markdown",
   "id": "f3610b1f",
   "metadata": {},
   "source": [
    "## Disney Dataset Creation\n",
    "Scrape a list of disney wiki pages to create dataset with `python BeautifulSoup`. "
   ]
  },
  {
   "cell_type": "markdown",
   "id": "5badc846",
   "metadata": {},
   "source": [
    "### Libraries"
   ]
  },
  {
   "cell_type": "code",
   "execution_count": 2,
   "id": "5fd59c89",
   "metadata": {},
   "outputs": [],
   "source": [
    "from bs4 import BeautifulSoup as bs\n",
    "import requests"
   ]
  },
  {
   "cell_type": "markdown",
   "id": "a8ac1919",
   "metadata": {},
   "source": [
    "#### Load webpage"
   ]
  },
  {
   "cell_type": "code",
   "execution_count": null,
   "id": "94855d1b",
   "metadata": {},
   "outputs": [],
   "source": [
    "r = requests.get('https://en.wikipedia.org/wiki/Toy_Story_3') # load page\n",
    "\n",
    "\n"
   ]
  }
 ],
 "metadata": {
  "kernelspec": {
   "display_name": "Python 3 (ipykernel)",
   "language": "python",
   "name": "python3"
  },
  "language_info": {
   "codemirror_mode": {
    "name": "ipython",
    "version": 3
   },
   "file_extension": ".py",
   "mimetype": "text/x-python",
   "name": "python",
   "nbconvert_exporter": "python",
   "pygments_lexer": "ipython3",
   "version": "3.9.13"
  }
 },
 "nbformat": 4,
 "nbformat_minor": 5
}
